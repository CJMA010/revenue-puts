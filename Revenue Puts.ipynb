{
 "cells": [
  {
   "cell_type": "code",
   "execution_count": 1,
   "metadata": {},
   "outputs": [],
   "source": [
    "import numpy as np\n",
    "import pandas as pd\n",
    "import matplotlib.pyplot as plt\n",
    "import progressbar\n",
    "\n",
    "ke = 0.75\n",
    "pebar = 32\n",
    "sigmae = 0.5\n",
    "kg = 0.15\n",
    "pgbar = 40\n",
    "sigmag = 0.6\n",
    "dt = 1/365\n",
    "n = 365*5\n",
    "pe0 = 20\n",
    "pg0 = 24\n",
    "h = 0.40\n",
    "y = 200*20\n",
    "\n",
    "rho = 0.5\n",
    "sd = np.sqrt(dt)\n",
    "mean = [0,0]\n",
    "cov = [[sd**2,rho*sd**2],[rho*sd**2,sd**2]]\n",
    "\n",
    "N = 3000\n",
    "\n",
    "def simulate(n):\n",
    "    dw = np.random.multivariate_normal(mean, cov, n)\n",
    "    dwe = dw[:, 0]\n",
    "    dwg = dw[:, 1]\n",
    "    pe = np.array([pe0])\n",
    "    pg = np.array([pg0])\n",
    "    for i in range(0,len(dwe)):\n",
    "        pe = np.append(pe,pe[i]+ke*(pebar-pe[i])*dt+sigmae*pe[i]*dwe[i])\n",
    "        pg = np.append(pg,pg[i]+kg * (pgbar - pg[i]) * dt + sigmag * pg[i] * dwg[i])\n",
    "    s = pe - h*pg\n",
    "    revenue  = y*s\n",
    "    return revenue\n",
    "\n",
    "def simulate_one(n):\n",
    "    dw = np.random.multivariate_normal(mean, cov, n)\n",
    "    dwe = dw[:, 0]\n",
    "    dwg = dw[:, 1]\n",
    "    pe = np.array([pe0])\n",
    "    pg = np.array([pg0])\n",
    "    for i in range(0,len(dwe)):\n",
    "        pe = np.append(pe,pe[i]+ke*(pebar-pe[i])*dt+sigmae*pe[i]*dwe[i])\n",
    "        pg = np.append(pg,pg[i]+kg * (pgbar - pg[i]) * dt + sigmag * pg[i] * dwg[i])\n",
    "    return pe, pg"
   ]
  },
  {
   "cell_type": "code",
   "execution_count": 2,
   "metadata": {},
   "outputs": [
    {
     "name": "stderr",
     "output_type": "stream",
     "text": [
      "100% |########################################################################|\n"
     ]
    }
   ],
   "source": [
    "no_day_not_operate = np.array([])\n",
    "no_day_less = np.array([])\n",
    "total_revenue = np.array([])\n",
    "alldata = np.array([])\n",
    "\n",
    "pbar = progressbar.ProgressBar()\n",
    "for i in pbar(range(0,N)):\n",
    "    revenue = simulate(365*5)\n",
    "    no_day_not_operate = np.append(no_day_not_operate,sum(revenue<0))\n",
    "    no_day_less = np.append(no_day_less,sum(revenue < 40000))\n",
    "    total_revenue = np.append(total_revenue,sum(revenue[revenue>0]))"
   ]
  },
  {
   "cell_type": "code",
   "execution_count": 3,
   "metadata": {},
   "outputs": [
    {
     "data": {
      "text/plain": [
       "67.09133333333334"
      ]
     },
     "execution_count": 3,
     "metadata": {},
     "output_type": "execute_result"
    }
   ],
   "source": [
    "np.mean(no_day_not_operate)"
   ]
  },
  {
   "cell_type": "code",
   "execution_count": 4,
   "metadata": {},
   "outputs": [
    {
     "data": {
      "text/plain": [
       "369.163"
      ]
     },
     "execution_count": 4,
     "metadata": {},
     "output_type": "execute_result"
    }
   ],
   "source": [
    "np.mean(no_day_less)"
   ]
  },
  {
   "cell_type": "code",
   "execution_count": 5,
   "metadata": {},
   "outputs": [
    {
     "data": {
      "text/plain": [
       "array([[<matplotlib.axes._subplots.AxesSubplot object at 0x11bfdc9b0>]],\n",
       "      dtype=object)"
      ]
     },
     "execution_count": 5,
     "metadata": {},
     "output_type": "execute_result"
    },
    {
     "data": {
      "image/png": "[encoded data removed]",
      "text/plain": [
       "<Figure size 432x288 with 1 Axes>"
      ]
     },
     "metadata": {
      "needs_background": "light"
     },
     "output_type": "display_data"
    }
   ],
   "source": [
    "pd.DataFrame(total_revenue).hist()"
   ]
  },
  {
   "cell_type": "code",
   "execution_count": 6,
   "metadata": {},
   "outputs": [
    {
     "data": {
      "text/plain": [
       "56916187.00556607"
      ]
     },
     "execution_count": 6,
     "metadata": {},
     "output_type": "execute_result"
    }
   ],
   "source": [
    "np.percentile(total_revenue,5)"
   ]
  },
  {
   "cell_type": "code",
   "execution_count": 7,
   "metadata": {},
   "outputs": [
    {
     "data": {
      "text/plain": [
       "73680628.3224711"
      ]
     },
     "execution_count": 7,
     "metadata": {},
     "output_type": "execute_result"
    }
   ],
   "source": [
    "np.percentile(total_revenue,10)"
   ]
  },
  {
   "cell_type": "markdown",
   "metadata": {},
   "source": [
    "# Q.3\n",
    "## Calculate the price of risk"
   ]
  },
  {
   "cell_type": "code",
   "execution_count": 8,
   "metadata": {},
   "outputs": [
    {
     "name": "stderr",
     "output_type": "stream",
     "text": [
      "100% |########################################################################|\n"
     ]
    }
   ],
   "source": [
    "one_year_pe = np.array([])\n",
    "one_year_pg = np.array([])\n",
    "\n",
    "pbar = progressbar.ProgressBar()\n",
    "for i in pbar(range(0,N)):\n",
    "    pe, pg = simulate_one(365)\n",
    "    one_year_pe = np.append(one_year_pe, pe[-1])\n",
    "    one_year_pg = np.append(one_year_pg, pg[-1])"
   ]
  },
  {
   "cell_type": "code",
   "execution_count": 9,
   "metadata": {},
   "outputs": [],
   "source": [
    "fg = 23.5\n",
    "fe = 26.3\n",
    "pe = one_year_pe.mean()\n",
    "pg = one_year_pg.mean()\n",
    "\n",
    "rg = np.log(pg/fg)\n",
    "re = np.log(pe/fe)\n",
    "lambdag = rg/sigmag\n",
    "lambdae = re/sigmae\n",
    "\n",
    "K = 40000"
   ]
  },
  {
   "cell_type": "code",
   "execution_count": 10,
   "metadata": {},
   "outputs": [
    {
     "name": "stdout",
     "output_type": "stream",
     "text": [
      "market price for the gas and electricity are 0.1977956912148461 and 0.01748981623875173 respectively.\n"
     ]
    }
   ],
   "source": [
    "print(\"market price for the gas and electricity are\",lambdag,\"and\",lambdae,\"respectively.\")"
   ]
  },
  {
   "cell_type": "code",
   "execution_count": 11,
   "metadata": {},
   "outputs": [
    {
     "name": "stderr",
     "output_type": "stream",
     "text": [
      "100% |########################################################################|\n"
     ]
    }
   ],
   "source": [
    "payoff_2 = np.array([])\n",
    "\n",
    "pbar = progressbar.ProgressBar()\n",
    "for i in pbar(range(1,n)):\n",
    "    revenue_oneday = np.array([])\n",
    "    for j in range(1,3000):\n",
    "        pe, pg = simulate_one(i)\n",
    "        pe = pe[-1]\n",
    "        pg = pg[-1]\n",
    "        fg = pg/np.exp(lambdag*sigmag*i*dt)\n",
    "        fe = pe/np.exp(lambdae*sigmae*i*dt)\n",
    "        s = fe - h*fg\n",
    "        revenue  = y*s\n",
    "        revenue_oneday = np.append(revenue_oneday, revenue)\n",
    "    payoff_2 = np.append(payoff_2, revenue_oneday.mean())"
   ]
  },
  {
   "cell_type": "code",
   "execution_count": 12,
   "metadata": {},
   "outputs": [],
   "source": [
    "payoff_2[payoff_2<0] = 0\n",
    "payoff_2[payoff_2<K] = K-payoff_2[payoff_2<K]\n",
    "payoff_2[payoff_2>=K] = 0"
   ]
  },
  {
   "cell_type": "code",
   "execution_count": 13,
   "metadata": {},
   "outputs": [
    {
     "name": "stdout",
     "output_type": "stream",
     "text": [
      "using the price of risk, the price of the revenue put is 607098.4766713\n"
     ]
    }
   ],
   "source": [
    "print(\"using the price of risk, the price of the revenue put is\", payoff_2.sum())"
   ]
  },
  {
   "cell_type": "markdown",
   "metadata": {},
   "source": [
    "## simulating the price path to obtain the payoffs of each day's option."
   ]
  },
  {
   "cell_type": "code",
   "execution_count": 14,
   "metadata": {},
   "outputs": [
    {
     "name": "stderr",
     "output_type": "stream",
     "text": [
      "100% |########################################################################|\n"
     ]
    }
   ],
   "source": [
    "payoff_1 = np.array([])\n",
    "\n",
    "pbar = progressbar.ProgressBar()\n",
    "for i in pbar(range(0,N)):\n",
    "    revenue = simulate(365*5)\n",
    "    revenue[revenue<0] = 0\n",
    "    revenue[revenue<K] = K-revenue[revenue<K]\n",
    "    revenue[revenue>=K] = 0\n",
    "    payoff_1 = np.append(payoff_1, revenue.sum())"
   ]
  },
  {
   "cell_type": "code",
   "execution_count": 15,
   "metadata": {},
   "outputs": [
    {
     "name": "stdout",
     "output_type": "stream",
     "text": [
      "using 5-year simulation, we have examined whether to execute on each day, the put’s true expected payoff is: 3540100.8468506713\n"
     ]
    }
   ],
   "source": [
    "print(\"Using 5-year simulation, we have examined whether to execute on each day, the put’s true expected payoff is:\", payoff_1.mean())"
   ]
  },
  {
   "cell_type": "markdown",
   "metadata": {},
   "source": [
    "# Q.4"
   ]
  },
  {
   "cell_type": "code",
   "execution_count": 16,
   "metadata": {},
   "outputs": [
    {
     "name": "stderr",
     "output_type": "stream",
     "text": [
      "100% |########################################################################|\n"
     ]
    }
   ],
   "source": [
    "payoff_suboptimal = np.array([])\n",
    "\n",
    "pbar = progressbar.ProgressBar()\n",
    "for i in pbar(range(0,N)):\n",
    "    revenue = simulate(365*5)\n",
    "    subopt_prob = 0.05*np.exp(-0.7*np.abs(revenue/y))\n",
    "    revenue[revenue<0] = (revenue*subopt_prob)[revenue<0]\n",
    "    revenue[revenue>0] = (revenue*(1-subopt_prob))[revenue>0]\n",
    "    revenue[revenue<0] = 0\n",
    "    revenue[revenue<K] = K-revenue[revenue<K]\n",
    "    revenue[revenue>=K] = 0\n",
    "    payoff_suboptimal = np.append(payoff_suboptimal, revenue.sum())\n"
   ]
  },
  {
   "cell_type": "code",
   "execution_count": 17,
   "metadata": {},
   "outputs": [
    {
     "name": "stdout",
     "output_type": "stream",
     "text": [
      "The payoff for the revenue put is 3798799.8507247684\n"
     ]
    }
   ],
   "source": [
    "print(\"The payoff for the revenue put is\", payoff_suboptimal.mean())"
   ]
  }
 ],
 "metadata": {
  "kernelspec": {
   "display_name": "Python 3",
   "language": "python",
   "name": "python3"
  },
  "language_info": {
   "codemirror_mode": {
    "name": "ipython",
    "version": 3
   },
   "file_extension": ".py",
   "mimetype": "text/x-python",
   "name": "python",
   "nbconvert_exporter": "python",
   "pygments_lexer": "ipython3",
   "version": "3.7.1"
  }
 },
 "nbformat": 4,
 "nbformat_minor": 2
}
